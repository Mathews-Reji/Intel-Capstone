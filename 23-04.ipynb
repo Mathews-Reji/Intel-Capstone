{
 "cells": [
  {
   "cell_type": "markdown",
   "id": "cfecb775-a0f7-4c0d-ae41-877b741649e2",
   "metadata": {},
   "source": [
    "# Code Section"
   ]
  },
  {
   "cell_type": "markdown",
   "id": "971bcc39-c264-497f-86e4-97baa4fec78c",
   "metadata": {},
   "source": [
    "### we install imbalanced-learn for the oversampling method which will be used later in the notebook"
   ]
  },
  {
   "cell_type": "code",
   "execution_count": 1,
   "id": "0ad12e42-1728-42c4-8648-c7edd9690ad9",
   "metadata": {},
   "outputs": [
    {
     "name": "stdout",
     "output_type": "stream",
     "text": [
      "Defaulting to user installation because normal site-packages is not writeable\n",
      "Requirement already satisfied: imbalanced-learn in /home/u213926/.local/lib/python3.9/site-packages (0.12.2)\n",
      "Requirement already satisfied: numpy>=1.17.3 in /glob/development-tools/versions/oneapi/2023.2.0.1/oneapi/intelpython/python3.9/lib/python3.9/site-packages (from imbalanced-learn) (1.24.3)\n",
      "Requirement already satisfied: scipy>=1.5.0 in /glob/development-tools/versions/oneapi/2023.2.0.1/oneapi/intelpython/python3.9/lib/python3.9/site-packages (from imbalanced-learn) (1.10.1)\n",
      "Requirement already satisfied: scikit-learn>=1.0.2 in /home/u213926/.local/lib/python3.9/site-packages (from imbalanced-learn) (1.2.2)\n",
      "Requirement already satisfied: joblib>=1.1.1 in /glob/development-tools/versions/oneapi/2023.2.0.1/oneapi/intelpython/python3.9/lib/python3.9/site-packages (from imbalanced-learn) (1.2.0)\n",
      "Requirement already satisfied: threadpoolctl>=2.0.0 in /glob/development-tools/versions/oneapi/2023.2.0.1/oneapi/intelpython/python3.9/lib/python3.9/site-packages (from imbalanced-learn) (3.1.0)\n",
      "Note: you may need to restart the kernel to use updated packages.\n"
     ]
    }
   ],
   "source": [
    "pip install imbalanced-learn"
   ]
  },
  {
   "cell_type": "markdown",
   "id": "1b27aa95-dea0-4404-bb8b-df8c32a96485",
   "metadata": {},
   "source": [
    "### The necessay libraries and the MERGEDDATASETS(1) are loaded "
   ]
  },
  {
   "cell_type": "code",
   "execution_count": 2,
   "id": "8f481511-4897-4986-9074-79a22535e92b",
   "metadata": {},
   "outputs": [
    {
     "name": "stdout",
     "output_type": "stream",
     "text": [
      "<class 'pandas.core.frame.DataFrame'>\n",
      "RangeIndex: 10215 entries, 0 to 10214\n",
      "Data columns (total 72 columns):\n",
      " #   Column                       Non-Null Count  Dtype  \n",
      "---  ------                       --------------  -----  \n",
      " 0   SK_ID_BUREAU                 10215 non-null  int64  \n",
      " 1   MONTHS_BALANCE               10215 non-null  float64\n",
      " 2   STATUS                       10215 non-null  float64\n",
      " 3   SK_ID_CURR                   10215 non-null  int64  \n",
      " 4   TARGET                       10215 non-null  int64  \n",
      " 5   NAME_CONTRACT_TYPE           10215 non-null  object \n",
      " 6   CODE_GENDER                  10215 non-null  object \n",
      " 7   FLAG_OWN_CAR                 10215 non-null  object \n",
      " 8   FLAG_OWN_REALTY              10215 non-null  object \n",
      " 9   CNT_CHILDREN                 10215 non-null  int64  \n",
      " 10  AMT_INCOME_TOTAL             10215 non-null  float64\n",
      " 11  AMT_CREDIT                   10215 non-null  float64\n",
      " 12  NAME_INCOME_TYPE             10215 non-null  object \n",
      " 13  NAME_EDUCATION_TYPE          10215 non-null  object \n",
      " 14  NAME_FAMILY_STATUS           10215 non-null  object \n",
      " 15  NAME_HOUSING_TYPE            10215 non-null  object \n",
      " 16  REGION_POPULATION_RELATIVE   10215 non-null  float64\n",
      " 17  DAYS_BIRTH                   10215 non-null  int64  \n",
      " 18  DAYS_EMPLOYED                10215 non-null  int64  \n",
      " 19  DAYS_REGISTRATION            10215 non-null  float64\n",
      " 20  DAYS_ID_PUBLISH              10215 non-null  int64  \n",
      " 21  FLAG_MOBIL                   10215 non-null  int64  \n",
      " 22  FLAG_EMP_PHONE               10215 non-null  int64  \n",
      " 23  FLAG_WORK_PHONE              10215 non-null  int64  \n",
      " 24  FLAG_CONT_MOBILE             10215 non-null  int64  \n",
      " 25  FLAG_PHONE                   10215 non-null  int64  \n",
      " 26  FLAG_EMAIL                   10215 non-null  int64  \n",
      " 27  REGION_RATING_CLIENT         10215 non-null  int64  \n",
      " 28  REGION_RATING_CLIENT_W_CITY  10215 non-null  int64  \n",
      " 29  WEEKDAY_APPR_PROCESS_START   10215 non-null  object \n",
      " 30  HOUR_APPR_PROCESS_START      10215 non-null  int64  \n",
      " 31  REG_REGION_NOT_LIVE_REGION   10215 non-null  int64  \n",
      " 32  REG_REGION_NOT_WORK_REGION   10215 non-null  int64  \n",
      " 33  LIVE_REGION_NOT_WORK_REGION  10215 non-null  int64  \n",
      " 34  REG_CITY_NOT_LIVE_CITY       10215 non-null  int64  \n",
      " 35  REG_CITY_NOT_WORK_CITY       10215 non-null  int64  \n",
      " 36  LIVE_CITY_NOT_WORK_CITY      10215 non-null  int64  \n",
      " 37  ORGANIZATION_TYPE            10215 non-null  object \n",
      " 38  FLAG_DOCUMENT_2              10215 non-null  int64  \n",
      " 39  FLAG_DOCUMENT_21             10215 non-null  int64  \n",
      " 40  AMT_REQ_CREDIT_BUREAU_HOUR   10215 non-null  float64\n",
      " 41  AMT_REQ_CREDIT_BUREAU_DAY    10215 non-null  float64\n",
      " 42  AMT_REQ_CREDIT_BUREAU_WEEK   10215 non-null  float64\n",
      " 43  AMT_REQ_CREDIT_BUREAU_MON    10215 non-null  float64\n",
      " 44  AMT_REQ_CREDIT_BUREAU_QRT    10215 non-null  float64\n",
      " 45  AMT_REQ_CREDIT_BUREAU_YEAR   10215 non-null  float64\n",
      " 46  CREDIT_ACTIVE                10215 non-null  object \n",
      " 47  CREDIT_CURRENCY              10215 non-null  object \n",
      " 48  DAYS_CREDIT                  10215 non-null  int64  \n",
      " 49  CREDIT_DAY_OVERDUE           10215 non-null  int64  \n",
      " 50  CNT_CREDIT_PROLONG           10215 non-null  int64  \n",
      " 51  AMT_CREDIT_SUM_OVERDUE       10215 non-null  float64\n",
      " 52  CREDIT_TYPE                  10215 non-null  object \n",
      " 53  DAYS_CREDIT_UPDATE           10215 non-null  int64  \n",
      " 54  SK_ID_PREV                   10215 non-null  int64  \n",
      " 55  NAME_CONTRACT_STATUS         10215 non-null  float64\n",
      " 56  SK_DPD                       10215 non-null  float64\n",
      " 57  SK_DPD_DEF                   10215 non-null  float64\n",
      " 58  DAYS_INSTALMENT              10215 non-null  float64\n",
      " 59  AMT_INSTALMENT               10215 non-null  float64\n",
      " 60  AMT_APPLICATION              10215 non-null  float64\n",
      " 61  NAME_CASH_LOAN_PURPOSE       10215 non-null  float64\n",
      " 62  DAYS_DECISION                10215 non-null  float64\n",
      " 63  NAME_PAYMENT_TYPE            10215 non-null  float64\n",
      " 64  CODE_REJECT_REASON           10215 non-null  float64\n",
      " 65  NAME_CLIENT_TYPE             10215 non-null  float64\n",
      " 66  NAME_GOODS_CATEGORY          10215 non-null  float64\n",
      " 67  NAME_PORTFOLIO               10215 non-null  float64\n",
      " 68  NAME_PRODUCT_TYPE            10215 non-null  float64\n",
      " 69  CHANNEL_TYPE                 10215 non-null  float64\n",
      " 70  NAME_SELLER_INDUSTRY         10215 non-null  float64\n",
      " 71  NAME_YIELD_GROUP             10215 non-null  float64\n",
      "dtypes: float64(30), int64(29), object(13)\n",
      "memory usage: 5.6+ MB\n",
      "None\n"
     ]
    }
   ],
   "source": [
    "# import necessary modules \n",
    "import pandas as pd \n",
    "import matplotlib.pyplot as plt \n",
    "import numpy as np \n",
    "from sklearn.linear_model import LogisticRegression \n",
    "from sklearn.preprocessing import StandardScaler \n",
    "from sklearn.metrics import confusion_matrix, classification_report \n",
    "\n",
    "# load the data set \n",
    "data = pd.read_csv('MERGEDDATASETS (1).csv') \n",
    "\n",
    "# print info about columns in the dataframe \n",
    "print(data.info()) \n"
   ]
  },
  {
   "cell_type": "markdown",
   "id": "49132886-bb81-40b8-8ec6-5f7ba54b29a0",
   "metadata": {},
   "source": [
    "### Label Encoding of the whole dataset"
   ]
  },
  {
   "cell_type": "code",
   "execution_count": 3,
   "id": "dd640021-2718-4f57-9d15-c44d8c8d4fcd",
   "metadata": {},
   "outputs": [],
   "source": [
    "from sklearn.preprocessing import LabelEncoder"
   ]
  },
  {
   "cell_type": "code",
   "execution_count": 4,
   "id": "26016568-d635-4a3b-977f-86e8b43cbcf6",
   "metadata": {},
   "outputs": [
    {
     "name": "stdout",
     "output_type": "stream",
     "text": [
      "5 columns were label encoded.\n"
     ]
    }
   ],
   "source": [
    "# Create a label encoder object\n",
    "le = LabelEncoder()\n",
    "le_count = 0\n",
    "\n",
    "# Iterate through the columns\n",
    "for col in data:\n",
    "    if data[col].dtype == 'object':\n",
    "        # If 2 or fewer unique categories\n",
    "        if len(list(data[col].unique())) <= 2:\n",
    "            # Train on the training data\n",
    "            le.fit(data[col])\n",
    "            # Transform both training and testing data\n",
    "            data[col] = le.transform(data[col])\n",
    "            \n",
    "\n",
    "            # Keep track of how many columns were label encoded\n",
    "            le_count += 1\n",
    "\n",
    "print('%d columns were label encoded.' % le_count)"
   ]
  },
  {
   "cell_type": "markdown",
   "id": "d6c6520a-411d-4d5d-a953-ca6209e4554d",
   "metadata": {},
   "source": [
    "### One-Hot Encoding"
   ]
  },
  {
   "cell_type": "code",
   "execution_count": 5,
   "id": "e395760e-0c2e-4a85-a2a9-290df0b45ca3",
   "metadata": {},
   "outputs": [
    {
     "name": "stdout",
     "output_type": "stream",
     "text": [
      "Training Features shape:  (10215, 162)\n"
     ]
    }
   ],
   "source": [
    "data = pd.get_dummies(data)\n",
    "print('Training Features shape: ', data.shape)"
   ]
  },
  {
   "cell_type": "code",
   "execution_count": 6,
   "id": "d0624227-a44c-4bed-8670-732cc83798e1",
   "metadata": {},
   "outputs": [
    {
     "data": {
      "text/plain": [
       "TARGET\n",
       "0    9363\n",
       "1     852\n",
       "Name: count, dtype: int64"
      ]
     },
     "execution_count": 6,
     "metadata": {},
     "output_type": "execute_result"
    }
   ],
   "source": [
    "# To get the total number of '0' and '1' in the dataset\n",
    "data['TARGET'].value_counts()"
   ]
  },
  {
   "cell_type": "markdown",
   "id": "c178310a-4388-4012-86d4-04e53dcfaf5c",
   "metadata": {},
   "source": [
    "### Now we split the entire dataset into training and testing parts for the diffrent models"
   ]
  },
  {
   "cell_type": "code",
   "execution_count": 7,
   "id": "7566404e-d929-4046-befb-722f2188218d",
   "metadata": {},
   "outputs": [
    {
     "name": "stdout",
     "output_type": "stream",
     "text": [
      "Number transactions X_train dataset:  (7150, 161)\n",
      "Number transactions y_train dataset:  (7150,)\n",
      "Number transactions X_test dataset:  (3065, 161)\n",
      "Number transactions y_test dataset:  (3065,)\n"
     ]
    }
   ],
   "source": [
    "from sklearn.model_selection import train_test_split\n",
    "X = data.loc[:, data.columns != 'TARGET']\n",
    "y = data.TARGET\n",
    "class_names = data.TARGET\n",
    "\n",
    "X_train, X_test, y_train, y_test = train_test_split(X , y, test_size = 0.3, random_state = 0)\n",
    "\n",
    "# describes info about train and test set \n",
    "print(\"Number transactions X_train dataset: \", X_train.shape) \n",
    "print(\"Number transactions y_train dataset: \", y_train.shape) \n",
    "print(\"Number transactions X_test dataset: \", X_test.shape) \n",
    "print(\"Number transactions y_test dataset: \", y_test.shape)"
   ]
  },
  {
   "cell_type": "code",
   "execution_count": 8,
   "id": "6822475d-245b-4a27-aa0f-3a6dcfe0961b",
   "metadata": {},
   "outputs": [
    {
     "name": "stdout",
     "output_type": "stream",
     "text": [
      "<class 'pandas.core.frame.DataFrame'>\n",
      "Index: 7150 entries, 3766 to 2732\n",
      "Columns: 161 entries, SK_ID_BUREAU to CREDIT_TYPE_Unknown type of loan\n",
      "dtypes: bool(98), float64(30), int64(33)\n",
      "memory usage: 4.2 MB\n",
      "None\n"
     ]
    }
   ],
   "source": [
    "print(X_train.info())"
   ]
  },
  {
   "cell_type": "code",
   "execution_count": 9,
   "id": "bd5185a1-6de1-4756-8966-c7cfee6479db",
   "metadata": {},
   "outputs": [
    {
     "name": "stdout",
     "output_type": "stream",
     "text": [
      "              precision    recall  f1-score   support\n",
      "\n",
      "           0       0.92      1.00      0.96      2820\n",
      "           1       0.00      0.00      0.00       245\n",
      "\n",
      "    accuracy                           0.92      3065\n",
      "   macro avg       0.46      0.50      0.48      3065\n",
      "weighted avg       0.85      0.92      0.88      3065\n",
      "\n"
     ]
    },
    {
     "name": "stderr",
     "output_type": "stream",
     "text": [
      "/home/u213926/.local/lib/python3.9/site-packages/sklearn/linear_model/_logistic.py:458: ConvergenceWarning: lbfgs failed to converge (status=1):\n",
      "STOP: TOTAL NO. of ITERATIONS REACHED LIMIT.\n",
      "\n",
      "Increase the number of iterations (max_iter) or scale the data as shown in:\n",
      "    https://scikit-learn.org/stable/modules/preprocessing.html\n",
      "Please also refer to the documentation for alternative solver options:\n",
      "    https://scikit-learn.org/stable/modules/linear_model.html#logistic-regression\n",
      "  n_iter_i = _check_optimize_result(\n",
      "/home/u213926/.local/lib/python3.9/site-packages/sklearn/metrics/_classification.py:1344: UndefinedMetricWarning: Precision and F-score are ill-defined and being set to 0.0 in labels with no predicted samples. Use `zero_division` parameter to control this behavior.\n",
      "  _warn_prf(average, modifier, msg_start, len(result))\n",
      "/home/u213926/.local/lib/python3.9/site-packages/sklearn/metrics/_classification.py:1344: UndefinedMetricWarning: Precision and F-score are ill-defined and being set to 0.0 in labels with no predicted samples. Use `zero_division` parameter to control this behavior.\n",
      "  _warn_prf(average, modifier, msg_start, len(result))\n",
      "/home/u213926/.local/lib/python3.9/site-packages/sklearn/metrics/_classification.py:1344: UndefinedMetricWarning: Precision and F-score are ill-defined and being set to 0.0 in labels with no predicted samples. Use `zero_division` parameter to control this behavior.\n",
      "  _warn_prf(average, modifier, msg_start, len(result))\n"
     ]
    }
   ],
   "source": [
    "# logistic regression object \n",
    "lr = LogisticRegression() \n",
    "\n",
    "# train the model on train set \n",
    "lr.fit(X_train, y_train.ravel()) \n",
    "\n",
    "predictions = lr.predict(X_test) \n",
    "\n",
    "# print classification report \n",
    "print(classification_report(y_test, predictions)) \n"
   ]
  },
  {
   "cell_type": "markdown",
   "id": "f3f46d8f-218c-4c6b-85a7-d44922a19474",
   "metadata": {},
   "source": [
    "### The above is the result of Logistic Regression done on the dataset before oversampling"
   ]
  },
  {
   "cell_type": "code",
   "execution_count": 10,
   "id": "008454cb-5b8c-44c7-a1da-333f73bc8a0d",
   "metadata": {},
   "outputs": [
    {
     "name": "stdout",
     "output_type": "stream",
     "text": [
      "Before OverSampling, counts of label '1': 607\n",
      "Before OverSampling, counts of label '0': 6543 \n",
      "\n"
     ]
    }
   ],
   "source": [
    "print(\"Before OverSampling, counts of label '1': {}\".format(sum(y_train == 1))) \n",
    "print(\"Before OverSampling, counts of label '0': {} \\n\".format(sum(y_train == 0)))"
   ]
  },
  {
   "cell_type": "markdown",
   "id": "7e2e87bb-a7db-43cc-abc7-ea178a25c5e1",
   "metadata": {},
   "source": [
    "### Here it is clear that the dataset is biased towards to '0'. Hence we oversample the 'train' part of the train_test_split as it is important to hava a equal dataset for training purpose. "
   ]
  },
  {
   "cell_type": "code",
   "execution_count": 11,
   "id": "a1687db6-f492-49a0-90ba-08ef9e66b122",
   "metadata": {},
   "outputs": [
    {
     "name": "stdout",
     "output_type": "stream",
     "text": [
      "After OverSampling, the shape of train_X: (13086, 161)\n",
      "After OverSampling, the shape of train_y: (13086,) \n",
      "\n",
      "After OverSampling, counts of label '1': 6543\n",
      "After OverSampling, counts of label '0': 6543\n"
     ]
    }
   ],
   "source": [
    " \n",
    "\n",
    "# import SMOTE module from imblearn library \n",
    "# pip install imblearn (if you don't have imblearn in your system) \n",
    "from imblearn.over_sampling import SMOTE \n",
    "sm = SMOTE(random_state = 2) \n",
    "X_train_res, y_train_res = sm.fit_resample(X_train, y_train.ravel()) \n",
    "\n",
    "print('After OverSampling, the shape of train_X: {}'.format(X_train_res.shape)) \n",
    "print('After OverSampling, the shape of train_y: {} \\n'.format(y_train_res.shape)) \n",
    "\n",
    "print(\"After OverSampling, counts of label '1': {}\".format(sum(y_train_res == 1))) \n",
    "print(\"After OverSampling, counts of label '0': {}\".format(sum(y_train_res == 0))) \n"
   ]
  },
  {
   "cell_type": "markdown",
   "id": "9f67ace0-c05d-4212-89fd-9ae064407f0d",
   "metadata": {},
   "source": [
    "### For the oversampling we use the method 'SMOTE'. After the oversampling we can see that there are equal number of label '1' and label '0'"
   ]
  },
  {
   "cell_type": "code",
   "execution_count": 12,
   "id": "7219185a-4344-4dba-91c4-54200c39f0be",
   "metadata": {},
   "outputs": [
    {
     "data": {
      "image/png": "[encoded data removed]",
      "text/plain": [
       "<Figure size 640x480 with 1 Axes>"
      ]
     },
     "metadata": {},
     "output_type": "display_data"
    }
   ],
   "source": [
    "import matplotlib.pyplot as plt\n",
    "\n",
    "# Data before oversampling\n",
    "before_oversampling = [sum(y_train == 0), sum(y_train == 1)]\n",
    "\n",
    "# Data after oversampling\n",
    "after_oversampling = [sum(y_train_res == 0), sum(y_train_res == 1)]\n",
    "\n",
    "# Labels for the bars\n",
    "labels = ['After Oversampling', 'Before Oversampling']\n",
    "\n",
    "# Bar width\n",
    "bar_width = 0.35\n",
    "\n",
    "# Index for the bars\n",
    "index = range(len(labels))\n",
    "\n",
    "# Plotting the data\n",
    "plt.bar(index, before_oversampling, bar_width, label='Label 1')\n",
    "plt.bar([i + bar_width for i in index], after_oversampling, bar_width, label='Label 0')\n",
    "\n",
    "# Adding labels and title\n",
    "plt.xlabel('Label')\n",
    "plt.ylabel('Counts')\n",
    "plt.title('Counts of Label 0 and Label 1 before and after Oversampling')\n",
    "plt.xticks([i + bar_width / 2 for i in index], labels)\n",
    "plt.legend()\n",
    "\n",
    "# Displaying the plot\n",
    "plt.show()\n"
   ]
  },
  {
   "cell_type": "markdown",
   "id": "9b490c17-627a-4b18-9380-9383b89e0351",
   "metadata": {},
   "source": [
    "### The above graph shows the value difference between before oversampling and after oversampling"
   ]
  },
  {
   "cell_type": "markdown",
   "id": "806c60e8-eaec-4278-8821-129a031d2c26",
   "metadata": {},
   "source": [
    "### Now we try out different models and their respective results are produced"
   ]
  },
  {
   "cell_type": "code",
   "execution_count": 13,
   "id": "e4004223-bf85-4e41-be87-9d45d9eb36d0",
   "metadata": {},
   "outputs": [
    {
     "name": "stdout",
     "output_type": "stream",
     "text": [
      "Training time: 80.95 seconds\n",
      "Prediction time: 2.98 seconds\n",
      "              precision    recall  f1-score   support\n",
      "\n",
      "           0       0.00      0.00      0.00      2820\n",
      "           1       0.08      1.00      0.15       245\n",
      "\n",
      "    accuracy                           0.08      3065\n",
      "   macro avg       0.04      0.50      0.07      3065\n",
      "weighted avg       0.01      0.08      0.01      3065\n",
      "\n"
     ]
    },
    {
     "name": "stderr",
     "output_type": "stream",
     "text": [
      "/home/u213926/.local/lib/python3.9/site-packages/sklearn/metrics/_classification.py:1344: UndefinedMetricWarning: Precision and F-score are ill-defined and being set to 0.0 in labels with no predicted samples. Use `zero_division` parameter to control this behavior.\n",
      "  _warn_prf(average, modifier, msg_start, len(result))\n",
      "/home/u213926/.local/lib/python3.9/site-packages/sklearn/metrics/_classification.py:1344: UndefinedMetricWarning: Precision and F-score are ill-defined and being set to 0.0 in labels with no predicted samples. Use `zero_division` parameter to control this behavior.\n",
      "  _warn_prf(average, modifier, msg_start, len(result))\n",
      "/home/u213926/.local/lib/python3.9/site-packages/sklearn/metrics/_classification.py:1344: UndefinedMetricWarning: Precision and F-score are ill-defined and being set to 0.0 in labels with no predicted samples. Use `zero_division` parameter to control this behavior.\n",
      "  _warn_prf(average, modifier, msg_start, len(result))\n"
     ]
    }
   ],
   "source": [
    "from sklearn import svm\n",
    "from sklearn.metrics import classification_report\n",
    "import time\n",
    "\n",
    "# Start the timer\n",
    "start_time = time.time()\n",
    "\n",
    "svc = svm.SVC(kernel='sigmoid', gamma='auto', probability=True).fit(X_train_res, y_train_res)\n",
    "\n",
    "# End the timer after training\n",
    "training_time = time.time() - start_time\n",
    "print(\"Training time: %.2f seconds\" % training_time)\n",
    "\n",
    "# Start the timer for predictions\n",
    "start_time = time.time()\n",
    "\n",
    "predictions = svc.predict(X_test)\n",
    "\n",
    "# End the timer after making predictions\n",
    "prediction_time = time.time() - start_time\n",
    "print(\"Prediction time: %.2f seconds\" % prediction_time)\n",
    "\n",
    "# Print classification report\n",
    "print(classification_report(y_test, predictions))\n"
   ]
  },
  {
   "cell_type": "code",
   "execution_count": 14,
   "id": "b667d575-76db-4ae0-acec-5733deec9a4f",
   "metadata": {},
   "outputs": [
    {
     "name": "stdout",
     "output_type": "stream",
     "text": [
      "Training time: 0.06 seconds\n",
      "Prediction time: 0.13 seconds\n",
      "              precision    recall  f1-score   support\n",
      "\n",
      "           0       0.95      0.18      0.31      2820\n",
      "           1       0.09      0.90      0.16       245\n",
      "\n",
      "    accuracy                           0.24      3065\n",
      "   macro avg       0.52      0.54      0.23      3065\n",
      "weighted avg       0.88      0.24      0.30      3065\n",
      "\n"
     ]
    }
   ],
   "source": [
    "from sklearn.naive_bayes import GaussianNB\n",
    "from sklearn.metrics import classification_report\n",
    "import time\n",
    "\n",
    "# Start the timer\n",
    "start_time = time.time()\n",
    "\n",
    "nb = GaussianNB()\n",
    "nb.fit(X_train_res, y_train_res)\n",
    "\n",
    "# End the timer after training\n",
    "training_time = time.time() - start_time\n",
    "print(\"Training time: %.2f seconds\" % training_time)\n",
    "\n",
    "# Start the timer for predictions\n",
    "start_time = time.time()\n",
    "\n",
    "predictions = nb.predict(X_test)\n",
    "\n",
    "# End the timer after making predictions\n",
    "prediction_time = time.time() - start_time\n",
    "print(\"Prediction time: %.2f seconds\" % prediction_time)\n",
    "\n",
    "# Print classification report\n",
    "print(classification_report(y_test, predictions))\n"
   ]
  },
  {
   "cell_type": "code",
   "execution_count": 15,
   "id": "7c2a4943-06f1-4100-a34e-2b9a3f20aad6",
   "metadata": {},
   "outputs": [
    {
     "name": "stdout",
     "output_type": "stream",
     "text": [
      "Training time: 1.42 seconds\n",
      "Prediction time: 0.00 seconds\n",
      "              precision    recall  f1-score   support\n",
      "\n",
      "           0       0.94      0.52      0.66      2820\n",
      "           1       0.10      0.60      0.17       245\n",
      "\n",
      "    accuracy                           0.52      3065\n",
      "   macro avg       0.52      0.56      0.42      3065\n",
      "weighted avg       0.87      0.52      0.63      3065\n",
      "\n"
     ]
    },
    {
     "name": "stderr",
     "output_type": "stream",
     "text": [
      "/home/u213926/.local/lib/python3.9/site-packages/sklearn/linear_model/_logistic.py:458: ConvergenceWarning: lbfgs failed to converge (status=1):\n",
      "STOP: TOTAL NO. of ITERATIONS REACHED LIMIT.\n",
      "\n",
      "Increase the number of iterations (max_iter) or scale the data as shown in:\n",
      "    https://scikit-learn.org/stable/modules/preprocessing.html\n",
      "Please also refer to the documentation for alternative solver options:\n",
      "    https://scikit-learn.org/stable/modules/linear_model.html#logistic-regression\n",
      "  n_iter_i = _check_optimize_result(\n"
     ]
    }
   ],
   "source": [
    "from sklearn.linear_model import LogisticRegression\n",
    "from sklearn.metrics import classification_report\n",
    "import time\n",
    "\n",
    "# Start the timer\n",
    "start_time = time.time()\n",
    "\n",
    "lr = LogisticRegression(max_iter=1000)\n",
    "lr.fit(X_train_res, y_train_res.ravel())\n",
    "\n",
    "# End the timer after training\n",
    "training_time = time.time() - start_time\n",
    "print(\"Training time: %.2f seconds\" % training_time)\n",
    "\n",
    "# Start the timer for predictions\n",
    "start_time = time.time()\n",
    "\n",
    "predictions = lr.predict(X_test)\n",
    "\n",
    "# End the timer after making predictions\n",
    "prediction_time = time.time() - start_time\n",
    "print(\"Prediction time: %.2f seconds\" % prediction_time)\n",
    "\n",
    "# Print classification report\n",
    "print(classification_report(y_test, predictions))\n"
   ]
  },
  {
   "cell_type": "code",
   "execution_count": 16,
   "id": "08bb7e02-9cc5-4efc-a120-302127fb539a",
   "metadata": {},
   "outputs": [
    {
     "name": "stdout",
     "output_type": "stream",
     "text": [
      "Training time: 0.45 seconds\n",
      "Prediction time: 0.00 seconds\n",
      "              precision    recall  f1-score   support\n",
      "\n",
      "           0       0.93      0.88      0.91      2820\n",
      "           1       0.16      0.25      0.20       245\n",
      "\n",
      "    accuracy                           0.83      3065\n",
      "   macro avg       0.55      0.57      0.55      3065\n",
      "weighted avg       0.87      0.83      0.85      3065\n",
      "\n"
     ]
    }
   ],
   "source": [
    "from sklearn.tree import DecisionTreeClassifier\n",
    "from sklearn.metrics import classification_report\n",
    "import time\n",
    "\n",
    "# Start the timer\n",
    "start_time = time.time()\n",
    "\n",
    "clf = DecisionTreeClassifier(random_state=0)\n",
    "clf.fit(X_train_res, y_train_res.ravel())\n",
    "\n",
    "# End the timer after training\n",
    "training_time = time.time() - start_time\n",
    "print(\"Training time: %.2f seconds\" % training_time)\n",
    "\n",
    "# Start the timer for predictions\n",
    "start_time = time.time()\n",
    "\n",
    "predictions = clf.predict(X_test)\n",
    "\n",
    "# End the timer after making predictions\n",
    "prediction_time = time.time() - start_time\n",
    "print(\"Prediction time: %.2f seconds\" % prediction_time)\n",
    "\n",
    "# Print classification report\n",
    "print(classification_report(y_test, predictions))\n"
   ]
  },
  {
   "cell_type": "code",
   "execution_count": 17,
   "id": "747d7ecf-9369-45f4-a0df-824b4a69b954",
   "metadata": {},
   "outputs": [
    {
     "name": "stdout",
     "output_type": "stream",
     "text": [
      "Training time: 0.11 seconds\n",
      "Prediction time: 0.00 seconds\n",
      "              precision    recall  f1-score   support\n",
      "\n",
      "           0       0.92      1.00      0.96      2820\n",
      "           1       0.00      0.00      0.00       245\n",
      "\n",
      "    accuracy                           0.92      3065\n",
      "   macro avg       0.46      0.50      0.48      3065\n",
      "weighted avg       0.85      0.92      0.88      3065\n",
      "\n"
     ]
    },
    {
     "name": "stderr",
     "output_type": "stream",
     "text": [
      "/home/u213926/.local/lib/python3.9/site-packages/sklearn/metrics/_classification.py:1344: UndefinedMetricWarning: Precision and F-score are ill-defined and being set to 0.0 in labels with no predicted samples. Use `zero_division` parameter to control this behavior.\n",
      "  _warn_prf(average, modifier, msg_start, len(result))\n",
      "/home/u213926/.local/lib/python3.9/site-packages/sklearn/metrics/_classification.py:1344: UndefinedMetricWarning: Precision and F-score are ill-defined and being set to 0.0 in labels with no predicted samples. Use `zero_division` parameter to control this behavior.\n",
      "  _warn_prf(average, modifier, msg_start, len(result))\n",
      "/home/u213926/.local/lib/python3.9/site-packages/sklearn/metrics/_classification.py:1344: UndefinedMetricWarning: Precision and F-score are ill-defined and being set to 0.0 in labels with no predicted samples. Use `zero_division` parameter to control this behavior.\n",
      "  _warn_prf(average, modifier, msg_start, len(result))\n"
     ]
    }
   ],
   "source": [
    "from sklearn.linear_model import PassiveAggressiveClassifier\n",
    "from sklearn.metrics import classification_report\n",
    "import time\n",
    "\n",
    "# Start the timer\n",
    "start_time = time.time()\n",
    "\n",
    "pac = PassiveAggressiveClassifier(max_iter=100, random_state=42)\n",
    "pac.fit(X_train_res, y_train_res)\n",
    "\n",
    "# End the timer after training\n",
    "training_time = time.time() - start_time\n",
    "print(\"Training time: %.2f seconds\" % training_time)\n",
    "\n",
    "# Start the timer for predictions\n",
    "start_time = time.time()\n",
    "\n",
    "predictions = pac.predict(X_test)\n",
    "\n",
    "# End the timer after making predictions\n",
    "prediction_time = time.time() - start_time\n",
    "print(\"Prediction time: %.2f seconds\" % prediction_time)\n",
    "\n",
    "# Print classification report\n",
    "print(classification_report(y_test, predictions))\n"
   ]
  },
  {
   "cell_type": "code",
   "execution_count": 18,
   "id": "5af16bf7-f91d-44ea-a0c2-5f83d212b949",
   "metadata": {},
   "outputs": [
    {
     "name": "stderr",
     "output_type": "stream",
     "text": [
      "[Parallel(n_jobs=-1)]: Using backend ThreadingBackend with 12 concurrent workers.\n",
      "[Parallel(n_jobs=-1)]: Done  26 tasks      | elapsed:    0.2s\n"
     ]
    },
    {
     "name": "stdout",
     "output_type": "stream",
     "text": [
      "Training time: 0.54 seconds\n",
      "Prediction time: 0.05 seconds\n",
      "              precision    recall  f1-score   support\n",
      "\n",
      "           0       0.93      1.00      0.96      2820\n",
      "           1       0.91      0.12      0.21       245\n",
      "\n",
      "    accuracy                           0.93      3065\n",
      "   macro avg       0.92      0.56      0.59      3065\n",
      "weighted avg       0.93      0.93      0.90      3065\n",
      "\n"
     ]
    },
    {
     "name": "stderr",
     "output_type": "stream",
     "text": [
      "[Parallel(n_jobs=-1)]: Done 100 out of 100 | elapsed:    0.5s finished\n",
      "[Parallel(n_jobs=12)]: Using backend ThreadingBackend with 12 concurrent workers.\n",
      "[Parallel(n_jobs=12)]: Done  26 tasks      | elapsed:    0.0s\n",
      "[Parallel(n_jobs=12)]: Done 100 out of 100 | elapsed:    0.0s finished\n"
     ]
    }
   ],
   "source": [
    "from sklearn.ensemble import RandomForestClassifier\n",
    "from sklearn.metrics import classification_report\n",
    "import time\n",
    "\n",
    "# Start the timer\n",
    "start_time = time.time()\n",
    "\n",
    "# Create a Gaussian Classifier\n",
    "rfc = RandomForestClassifier(n_estimators=100, random_state=50, verbose=1, n_jobs=-1)\n",
    "\n",
    "# Train the model\n",
    "rfc.fit(X_train_res, y_train_res)\n",
    "\n",
    "# End the timer after training\n",
    "training_time = time.time() - start_time\n",
    "print(\"Training time: %.2f seconds\" % training_time)\n",
    "\n",
    "# Start the timer for predictions\n",
    "start_time = time.time()\n",
    "\n",
    "# Use the trained classifier for predictions\n",
    "predictions = rfc.predict(X_test)\n",
    "\n",
    "# End the timer after making predictions\n",
    "prediction_time = time.time() - start_time\n",
    "print(\"Prediction time: %.2f seconds\" % prediction_time)\n",
    "\n",
    "# Print classification report\n",
    "print(classification_report(y_test, predictions))\n"
   ]
  },
  {
   "cell_type": "markdown",
   "id": "27812a8d-234b-4612-964f-167e39550f27",
   "metadata": {},
   "source": [
    "### After implementing the above models SVM performed the least with accuracy of 8% and took a time of apporx 83 sec. Random forest was the best model in terms of accuracy which had an accuracy of 93% and appox took 0.6 sec. But Interestingly Passive aggressive model came close with an accuracy of 92% and just took a time apporx 0.11 sec. Hence for the deployment we can say that passive aggressive is the best method"
   ]
  },
  {
   "cell_type": "code",
   "execution_count": null,
   "id": "06e43102-7bae-40b2-81de-50e213c1c2fe",
   "metadata": {},
   "outputs": [],
   "source": []
  }
 ],
 "metadata": {
  "kernelspec": {
   "display_name": "Python 3 (Intel® oneAPI 2023.2)",
   "language": "python",
   "name": "c009-intel_distribution_of_python_3_oneapi-beta05-python"
  },
  "language_info": {
   "codemirror_mode": {
    "name": "ipython",
    "version": 3
   },
   "file_extension": ".py",
   "mimetype": "text/x-python",
   "name": "python",
   "nbconvert_exporter": "python",
   "pygments_lexer": "ipython3",
   "version": "3.9.16"
  }
 },
 "nbformat": 4,
 "nbformat_minor": 5
}
